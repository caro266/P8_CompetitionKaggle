{
 "cells": [
  {
   "cell_type": "markdown",
   "metadata": {},
   "source": [
    "![](https://storage.googleapis.com/kaggle-competitions/kaggle/29762/logos/header.png)\n",
    "\n",
    "# Context\n",
    "\n",
    "The aim of this competition is to classify more than 81K landmark classes.\n",
    "\n",
    "For each test image, we have to predict one landmark label and a corresponding confidence score. "
   ]
  },
  {
   "cell_type": "markdown",
   "metadata": {},
   "source": [
    "# Libraries\n",
    "\n",
    "We use some standard python packages and the libraries of scikit learn and keras. "
   ]
  },
  {
   "cell_type": "code",
   "execution_count": 1,
   "metadata": {
    "execution": {
     "iopub.execute_input": "2021-09-30T19:18:59.443702Z",
     "iopub.status.busy": "2021-09-30T19:18:59.443299Z",
     "iopub.status.idle": "2021-09-30T19:19:04.971163Z",
     "shell.execute_reply": "2021-09-30T19:19:04.970053Z",
     "shell.execute_reply.started": "2021-09-30T19:18:59.443593Z"
    }
   },
   "outputs": [],
   "source": [
    "import os\n",
    "import pandas as pd\n",
    "import numpy as np\n",
    "import matplotlib.pyplot as plt\n",
    "import cv2\n",
    "\n",
    "from sklearn.model_selection import train_test_split\n",
    "\n",
    "from keras.utils import to_categorical, Sequence\n",
    "from keras.models import Sequential, Model\n",
    "from keras.layers import Dense, Dropout, Flatten, Activation\n",
    "from keras.optimizers import RMSprop,Adam\n",
    "from keras.applications import VGG19, VGG16, ResNet50, ResNet152V2, NASNetMobile\n",
    "from keras.preprocessing.image import ImageDataGenerator\n",
    "from keras.callbacks import ModelCheckpoint\n",
    "from keras.layers.normalization import BatchNormalization\n",
    "\n",
    "import warnings\n",
    "warnings.filterwarnings(\"ignore\")"
   ]
  },
  {
   "cell_type": "markdown",
   "metadata": {},
   "source": [
    "# Path"
   ]
  },
  {
   "cell_type": "code",
   "execution_count": 2,
   "metadata": {
    "execution": {
     "iopub.execute_input": "2021-09-30T19:19:04.973101Z",
     "iopub.status.busy": "2021-09-30T19:19:04.972744Z",
     "iopub.status.idle": "2021-09-30T19:19:05.292673Z",
     "shell.execute_reply": "2021-09-30T19:19:05.288638Z",
     "shell.execute_reply.started": "2021-09-30T19:19:04.973065Z"
    }
   },
   "outputs": [],
   "source": [
    "path = '../../landmark-recognition-2021/'\n",
    "#path = '/kaggle/input/landmark-recognition-2021/'\n",
    "os.listdir(path)"
   ]
  },
  {
   "cell_type": "markdown",
   "metadata": {},
   "source": [
    "# Data\n",
    "\n",
    "## Load"
   ]
  },
  {
   "cell_type": "code",
   "execution_count": null,
   "metadata": {
    "execution": {
     "iopub.status.busy": "2021-09-30T19:19:05.299047Z",
     "iopub.status.idle": "2021-09-30T19:19:05.299597Z"
    }
   },
   "outputs": [],
   "source": [
    "train_data = pd.read_csv(path+'train.csv')\n",
    "samp_subm = pd.read_csv(path+'sample_submission.csv')"
   ]
  },
  {
   "cell_type": "code",
   "execution_count": null,
   "metadata": {
    "execution": {
     "iopub.status.busy": "2021-09-30T19:19:05.301066Z",
     "iopub.status.idle": "2021-09-30T19:19:05.301611Z"
    }
   },
   "outputs": [],
   "source": [
    "train_data.head()"
   ]
  },
  {
   "cell_type": "code",
   "execution_count": null,
   "metadata": {
    "execution": {
     "iopub.status.busy": "2021-09-30T19:19:05.302968Z",
     "iopub.status.idle": "2021-09-30T19:19:05.303522Z"
    }
   },
   "outputs": [],
   "source": [
    "samp_subm.head()"
   ]
  },
  {
   "cell_type": "markdown",
   "metadata": {},
   "source": [
    "## Analyse"
   ]
  },
  {
   "cell_type": "code",
   "execution_count": null,
   "metadata": {
    "execution": {
     "iopub.status.busy": "2021-09-30T19:19:05.305044Z",
     "iopub.status.idle": "2021-09-30T19:19:05.305592Z"
    }
   },
   "outputs": [],
   "source": [
    "print(\"Mean picture per class : \",np.mean(train_data[\"landmark_id\"].value_counts()))"
   ]
  },
  {
   "cell_type": "code",
   "execution_count": null,
   "metadata": {
    "execution": {
     "iopub.status.busy": "2021-09-30T19:19:05.307114Z",
     "iopub.status.idle": "2021-09-30T19:19:05.307672Z"
    }
   },
   "outputs": [],
   "source": [
    "fig = plt.figure(figsize=(30, 15))\n",
    "plt.boxplot(train_data[\"landmark_id\"].value_counts(), vert=0)\n",
    "plt.title(\"BoxPlot du nombre d'image par catégorie\",fontsize=30)\n",
    "plt.xticks(size=20)\n",
    "plt.xlabel(\"Nbr Image\",fontsize=20)\n",
    "plt.show()"
   ]
  },
  {
   "cell_type": "raw",
   "metadata": {},
   "source": [
    "# We keep 10 classes\n",
    "indexToUse = train_data[\"landmark_id\"].value_counts()[4:14].index\n",
    "train_data = train_data.query('landmark_id in @indexToUse')\n",
    "train_data=train_data.replace([9070, 168098, 46705,113209,177870,194914,149980,139894,1924,176528], [0,1, 2, 3, 4,5,6,7,8,9])\n",
    "\n",
    "train_data.reset_index(drop=True, inplace=True)"
   ]
  },
  {
   "cell_type": "code",
   "execution_count": null,
   "metadata": {
    "execution": {
     "iopub.status.busy": "2021-09-30T19:19:05.309088Z",
     "iopub.status.idle": "2021-09-30T19:19:05.309839Z"
    }
   },
   "outputs": [],
   "source": [
    "print(\"Mean picture per class (10 choosen classes): \",np.mean(train_data[\"landmark_id\"].value_counts()))\n",
    "\n",
    "fig = plt.figure(figsize=(30, 15))\n",
    "plt.boxplot(train_data[\"landmark_id\"].value_counts(), vert=0)\n",
    "plt.title(\"BoxPlot du nombre d'image par catégorie\",fontsize=30)\n",
    "plt.xticks(size=20)\n",
    "plt.xlabel(\"Nbr Image\",fontsize=20)\n",
    "plt.show()"
   ]
  },
  {
   "cell_type": "markdown",
   "metadata": {},
   "source": [
    "# Functions"
   ]
  },
  {
   "cell_type": "code",
   "execution_count": null,
   "metadata": {
    "execution": {
     "iopub.status.busy": "2021-09-30T19:19:05.311559Z",
     "iopub.status.idle": "2021-09-30T19:19:05.312141Z"
    }
   },
   "outputs": [],
   "source": [
    "def plot_examples(landmark_id=1):\n",
    "    \"\"\" Plot 5 examples of images with the same landmark_id \"\"\"\n",
    "    \n",
    "    fig, axs = plt.subplots(1, 5, figsize=(25, 12))\n",
    "    fig.subplots_adjust(hspace = .2, wspace=.2)\n",
    "    axs = axs.ravel()\n",
    "    for i in range(5):\n",
    "        idx = train_data[train_data['landmark_id']==landmark_id].index[i]\n",
    "        image_id = train_data.loc[idx, 'id']\n",
    "        file = image_id+'.jpg'\n",
    "        subpath = '/'.join([char for char in image_id[0:3]])\n",
    "        img = cv2.imread(path+'train/'+subpath+'/'+file)\n",
    "        axs[i].imshow(img)\n",
    "        axs[i].set_title('landmark_id: '+str(landmark_id))\n",
    "        axs[i].set_xticklabels([])\n",
    "        axs[i].set_yticklabels([])"
   ]
  },
  {
   "cell_type": "code",
   "execution_count": null,
   "metadata": {
    "execution": {
     "iopub.status.busy": "2021-09-30T19:19:05.313552Z",
     "iopub.status.idle": "2021-09-30T19:19:05.314123Z"
    }
   },
   "outputs": [],
   "source": [
    "def ImgToTreat(img):  \n",
    "    \"\"\" Image processing (histogram equalization and blur)\"\"\"\n",
    "    imgBlur = img\n",
    "    try:\n",
    "        locImg=cv2.cvtColor(img,cv2.COLOR_RGB2BGR)\n",
    "        # Egalisation histogramme\n",
    "        imgEq = cv2.cvtColor(img,cv2.COLOR_BGR2YCrCb)\n",
    "        imgEq[:, :, 0] = cv2.equalizeHist(imgEq[:, :, 0])\n",
    "        imgEq = cv2.cvtColor(imgEq,cv2.COLOR_YCrCb2RGB)\n",
    "        # Lissage bruit\n",
    "        imgBlur = cv2.blur(imgEq,(2,2))\n",
    "    except Exception as e:\n",
    "        print(e)\n",
    "        pass\n",
    "    return imgBlur"
   ]
  },
  {
   "cell_type": "markdown",
   "metadata": {},
   "source": [
    "# Overview\n",
    "First we look on the size of the dataset:"
   ]
  },
  {
   "cell_type": "code",
   "execution_count": null,
   "metadata": {
    "execution": {
     "iopub.status.busy": "2021-09-30T19:19:05.315432Z",
     "iopub.status.idle": "2021-09-30T19:19:05.316009Z"
    }
   },
   "outputs": [],
   "source": [
    "print('Samples train:', len(train_data))\n",
    "print('Samples test:', len(samp_subm))"
   ]
  },
  {
   "cell_type": "code",
   "execution_count": null,
   "metadata": {
    "execution": {
     "iopub.status.busy": "2021-09-30T19:19:05.317430Z",
     "iopub.status.idle": "2021-09-30T19:19:05.317999Z"
    }
   },
   "outputs": [],
   "source": [
    "num_classes = len(train_data['landmark_id'].unique())\n",
    "print(\"There is %d unique classes.\" %num_classes)"
   ]
  },
  {
   "cell_type": "code",
   "execution_count": null,
   "metadata": {
    "execution": {
     "iopub.status.busy": "2021-09-30T19:19:05.319374Z",
     "iopub.status.idle": "2021-09-30T19:19:05.319937Z"
    }
   },
   "outputs": [],
   "source": [
    "train_data.head()"
   ]
  },
  {
   "cell_type": "markdown",
   "metadata": {
    "execution": {
     "iopub.execute_input": "2021-08-14T07:51:34.634214Z",
     "iopub.status.busy": "2021-08-14T07:51:34.633814Z"
    }
   },
   "source": [
    "# Image"
   ]
  },
  {
   "cell_type": "code",
   "execution_count": null,
   "metadata": {
    "execution": {
     "iopub.status.busy": "2021-09-30T19:19:05.321208Z",
     "iopub.status.idle": "2021-09-30T19:19:05.321776Z"
    }
   },
   "outputs": [],
   "source": [
    "image_id = train_data.loc[0, 'id']\n",
    "file = image_id+'.jpg'\n",
    "subpath = '/'.join([char for char in image_id[0:3]]) "
   ]
  },
  {
   "cell_type": "code",
   "execution_count": null,
   "metadata": {
    "execution": {
     "iopub.status.busy": "2021-09-30T19:19:05.323387Z",
     "iopub.status.idle": "2021-09-30T19:19:05.324006Z"
    }
   },
   "outputs": [],
   "source": [
    "file"
   ]
  },
  {
   "cell_type": "code",
   "execution_count": null,
   "metadata": {
    "execution": {
     "iopub.status.busy": "2021-09-30T19:19:05.325431Z",
     "iopub.status.idle": "2021-09-30T19:19:05.326005Z"
    }
   },
   "outputs": [],
   "source": [
    "subpath"
   ]
  },
  {
   "cell_type": "markdown",
   "metadata": {},
   "source": [
    "Is the file located in the subpath?"
   ]
  },
  {
   "cell_type": "code",
   "execution_count": null,
   "metadata": {
    "execution": {
     "iopub.status.busy": "2021-09-30T19:19:05.327523Z",
     "iopub.status.idle": "2021-09-30T19:19:05.328150Z"
    }
   },
   "outputs": [],
   "source": [
    "file in os.listdir(path+'train/'+subpath)"
   ]
  },
  {
   "cell_type": "markdown",
   "metadata": {},
   "source": [
    "Plot the image:"
   ]
  },
  {
   "cell_type": "code",
   "execution_count": null,
   "metadata": {
    "execution": {
     "iopub.status.busy": "2021-09-30T19:19:05.329693Z",
     "iopub.status.idle": "2021-09-30T19:19:05.330239Z"
    }
   },
   "outputs": [],
   "source": [
    "img = cv2.imread(path+'train/'+subpath+'/'+file)\n",
    "plt.imshow(img)\n",
    "plt.show()"
   ]
  },
  {
   "cell_type": "markdown",
   "metadata": {},
   "source": [
    "# Plot An Example\n",
    "We plot an example of images with the same **landmark_id** in a row."
   ]
  },
  {
   "cell_type": "code",
   "execution_count": null,
   "metadata": {
    "_kg_hide-input": true,
    "execution": {
     "iopub.status.busy": "2021-09-30T19:19:05.331960Z",
     "iopub.status.idle": "2021-09-30T19:19:05.332506Z"
    }
   },
   "outputs": [],
   "source": [
    "plot_examples(landmark_id = 83145)"
   ]
  },
  {
   "cell_type": "markdown",
   "metadata": {
    "execution": {
     "iopub.execute_input": "2021-09-07T11:03:28.222307Z",
     "iopub.status.busy": "2021-09-07T11:03:28.221721Z",
     "iopub.status.idle": "2021-09-07T11:03:28.247080Z",
     "shell.execute_reply": "2021-09-07T11:03:28.246183Z",
     "shell.execute_reply.started": "2021-09-07T11:03:28.222272Z"
    }
   },
   "source": [
    "# Image processing and data creation"
   ]
  },
  {
   "cell_type": "code",
   "execution_count": null,
   "metadata": {
    "execution": {
     "iopub.status.busy": "2021-09-30T19:19:05.334119Z",
     "iopub.status.idle": "2021-09-30T19:19:05.334694Z"
    }
   },
   "outputs": [],
   "source": [
    "img_size = 224\n",
    "img_channel = 3\n",
    "batch_size = 64"
   ]
  },
  {
   "cell_type": "code",
   "execution_count": null,
   "metadata": {
    "execution": {
     "iopub.status.busy": "2021-09-30T19:19:05.336147Z",
     "iopub.status.idle": "2021-09-30T19:19:05.336719Z"
    }
   },
   "outputs": [],
   "source": [
    "labels = []\n",
    "image_path = []\n",
    "images_pixels = []\n",
    "for row in train_data.itertuples():\n",
    "    image_id = row.id\n",
    "    file = image_id+'.jpg'\n",
    "    subpath = '/'.join([char for char in image_id[0:3]]) \n",
    "    finalpath = path+\"/train/\"+subpath+'/'+file\n",
    "\n",
    "    img = cv2.imread(finalpath)\n",
    "    img = cv2.resize(img, (img_size, img_size))\n",
    "    img = ImgToTreat(img)\n",
    "\n",
    "    images_pixels.append(img)\n",
    "    image_path.append(finalpath)\n",
    "    labels.append(row.landmark_id) "
   ]
  },
  {
   "cell_type": "markdown",
   "metadata": {},
   "source": [
    "# Split Data\n",
    "We define train, validation and test data."
   ]
  },
  {
   "cell_type": "code",
   "execution_count": null,
   "metadata": {
    "execution": {
     "iopub.status.busy": "2021-09-30T19:19:05.338182Z",
     "iopub.status.idle": "2021-09-30T19:19:05.338763Z"
    }
   },
   "outputs": [],
   "source": [
    "X_train, X_val, Y_train, Y_val = train_test_split(images_pixels,\n",
    "                                                  labels, test_size = 0.3, \n",
    "                                                  random_state=101)\n",
    "print(\"X train data : \", len(X_train))\n",
    "print(\"X label data : \", len(X_val))\n",
    "print(\"Y test data : \", len(Y_train))\n",
    "print(\"Y label data : \", len(Y_val))"
   ]
  },
  {
   "cell_type": "markdown",
   "metadata": {},
   "source": [
    "# Data Augmentation"
   ]
  },
  {
   "cell_type": "code",
   "execution_count": null,
   "metadata": {
    "execution": {
     "iopub.status.busy": "2021-09-30T19:19:05.340146Z",
     "iopub.status.idle": "2021-09-30T19:19:05.340743Z"
    }
   },
   "outputs": [],
   "source": [
    "datagen = ImageDataGenerator(\n",
    "        rotation_range=40,\n",
    "        width_shift_range=0.2,\n",
    "        height_shift_range=0.2,\n",
    "        rescale=1./255,\n",
    "        shear_range=0.2,\n",
    "        zoom_range=0.2,\n",
    "        horizontal_flip=True,\n",
    "        fill_mode='nearest')\n",
    "\n",
    "training_set = datagen.flow(np.array(X_train),np.array(Y_train),batch_size=16)"
   ]
  },
  {
   "cell_type": "markdown",
   "metadata": {},
   "source": [
    "# Model"
   ]
  },
  {
   "cell_type": "markdown",
   "metadata": {},
   "source": [
    "Load pretrained model:"
   ]
  },
  {
   "cell_type": "code",
   "execution_count": null,
   "metadata": {
    "execution": {
     "iopub.status.busy": "2021-09-30T19:19:05.342197Z",
     "iopub.status.idle": "2021-09-30T19:19:05.342774Z"
    }
   },
   "outputs": [],
   "source": [
    "weights='imagenet'\n",
    "conv_base = NASNetMobile(weights=weights,\n",
    "                     include_top=False,\n",
    "                    input_shape=(224,224,3))\n",
    "conv_base.trainable = True"
   ]
  },
  {
   "cell_type": "markdown",
   "metadata": {},
   "source": [
    "Define Model"
   ]
  },
  {
   "cell_type": "code",
   "execution_count": null,
   "metadata": {
    "execution": {
     "iopub.status.busy": "2021-09-30T19:19:05.344222Z",
     "iopub.status.idle": "2021-09-30T19:19:05.344796Z"
    }
   },
   "outputs": [],
   "source": [
    "# Ne pas entraîner les 5 premières couches (les plus basses) \n",
    "for layer in conv_base.layers[:5]:\n",
    "   layer.trainable = False\n",
    "\n",
    "model = Sequential()\n",
    "model.add(conv_base)\n",
    "model.add(Flatten())\n",
    "model.add(Dropout(0.3))\n",
    "model.add(BatchNormalization())\n",
    "model.add(Dense(32,kernel_initializer='he_uniform'))\n",
    "model.add(BatchNormalization())\n",
    "model.add(Activation('relu'))\n",
    "model.add(Dense(num_classes, activation='softmax'))\n",
    "\n",
    "model.compile(optimizer = Adam(lr=1e-4),\n",
    "              loss=\"sparse_categorical_crossentropy\",\n",
    "              metrics=['sparse_categorical_accuracy'])\n",
    "\n",
    "model.summary()"
   ]
  },
  {
   "cell_type": "code",
   "execution_count": null,
   "metadata": {
    "execution": {
     "iopub.status.busy": "2021-09-30T19:19:05.346458Z",
     "iopub.status.idle": "2021-09-30T19:19:05.347045Z"
    }
   },
   "outputs": [],
   "source": [
    "epochs = 10"
   ]
  },
  {
   "cell_type": "code",
   "execution_count": null,
   "metadata": {
    "execution": {
     "iopub.status.busy": "2021-09-30T19:19:05.348485Z",
     "iopub.status.idle": "2021-09-30T19:19:05.349075Z"
    }
   },
   "outputs": [],
   "source": [
    "h5_path = \"model.h5\"\n",
    "checkpoint = ModelCheckpoint(h5_path, monitor='val_acc', verbose=1, save_best_only=True, mode='max')\n",
    "\n",
    "history = model.fit_generator(\n",
    "    training_set,\n",
    "    validation_data=(np.array(X_val),np.array(Y_val)),\n",
    "    epochs=epochs, verbose=1,\n",
    "    callbacks=[checkpoint])"
   ]
  },
  {
   "cell_type": "code",
   "execution_count": null,
   "metadata": {
    "execution": {
     "iopub.status.busy": "2021-09-30T19:19:05.350648Z",
     "iopub.status.idle": "2021-09-30T19:19:05.351282Z"
    }
   },
   "outputs": [],
   "source": [
    "fig = plt.figure(figsize=(30, 15))\n",
    "plt.plot(history.history[\"sparse_categorical_accuracy\"])\n",
    "plt.plot(history.history[\"val_sparse_categorical_accuracy\"])\n",
    "plt.title(\"Précisions des modèles\",fontsize=30)\n",
    "plt.yticks(size=20)\n",
    "plt.ylabel(\"Précisions\",fontsize=20)\n",
    "plt.xlabel(\"Epoch\",fontsize=20)\n",
    "plt.legend([\"Learning Accuracy\",\"Validation Accuracy\"],fontsize=15)\n",
    "plt.show()"
   ]
  },
  {
   "cell_type": "markdown",
   "metadata": {},
   "source": [
    "# Predict Test Data"
   ]
  },
  {
   "cell_type": "code",
   "execution_count": null,
   "metadata": {
    "execution": {
     "iopub.status.busy": "2021-09-30T19:19:05.352771Z",
     "iopub.status.idle": "2021-09-30T19:19:05.353322Z"
    }
   },
   "outputs": [],
   "source": [
    "y_pred = model.predict_generator(test_generator, verbose=1)"
   ]
  },
  {
   "cell_type": "code",
   "execution_count": null,
   "metadata": {
    "execution": {
     "iopub.status.busy": "2021-09-30T19:19:05.354799Z",
     "iopub.status.idle": "2021-09-30T19:19:05.355350Z"
    }
   },
   "outputs": [],
   "source": [
    "y_pred.shape"
   ]
  },
  {
   "cell_type": "code",
   "execution_count": null,
   "metadata": {
    "execution": {
     "iopub.status.busy": "2021-09-30T19:19:05.356793Z",
     "iopub.status.idle": "2021-09-30T19:19:05.357344Z"
    }
   },
   "outputs": [],
   "source": [
    "for i in range(len(samp_subm.index)):\n",
    "    category = np.argmax(y_pred[i])\n",
    "    score = y_pred[i][np.argmax(y_pred[i])].round(2)\n",
    "    samp_subm.loc[i, 'landmarks'] = str(category)+' '+str(score)"
   ]
  },
  {
   "cell_type": "code",
   "execution_count": null,
   "metadata": {
    "execution": {
     "iopub.status.busy": "2021-09-30T19:19:05.358810Z",
     "iopub.status.idle": "2021-09-30T19:19:05.359394Z"
    }
   },
   "outputs": [],
   "source": [
    "samp_subm.head()"
   ]
  },
  {
   "cell_type": "markdown",
   "metadata": {},
   "source": [
    "# Export"
   ]
  },
  {
   "cell_type": "code",
   "execution_count": null,
   "metadata": {
    "execution": {
     "iopub.status.busy": "2021-09-30T19:19:05.361109Z",
     "iopub.status.idle": "2021-09-30T19:19:05.361702Z"
    }
   },
   "outputs": [],
   "source": [
    "samp_subm.to_csv('submission.csv', index=False)"
   ]
  },
  {
   "cell_type": "code",
   "execution_count": null,
   "metadata": {},
   "outputs": [],
   "source": []
  },
  {
   "cell_type": "code",
   "execution_count": null,
   "metadata": {},
   "outputs": [],
   "source": []
  },
  {
   "cell_type": "code",
   "execution_count": null,
   "metadata": {},
   "outputs": [],
   "source": []
  },
  {
   "cell_type": "code",
   "execution_count": null,
   "metadata": {},
   "outputs": [],
   "source": []
  },
  {
   "cell_type": "code",
   "execution_count": null,
   "metadata": {},
   "outputs": [],
   "source": []
  },
  {
   "cell_type": "code",
   "execution_count": null,
   "metadata": {},
   "outputs": [],
   "source": []
  },
  {
   "cell_type": "code",
   "execution_count": null,
   "metadata": {},
   "outputs": [],
   "source": []
  },
  {
   "cell_type": "code",
   "execution_count": null,
   "metadata": {},
   "outputs": [],
   "source": []
  },
  {
   "cell_type": "code",
   "execution_count": null,
   "metadata": {},
   "outputs": [],
   "source": []
  },
  {
   "cell_type": "code",
   "execution_count": null,
   "metadata": {},
   "outputs": [],
   "source": []
  },
  {
   "cell_type": "code",
   "execution_count": null,
   "metadata": {},
   "outputs": [],
   "source": []
  },
  {
   "cell_type": "code",
   "execution_count": null,
   "metadata": {},
   "outputs": [],
   "source": []
  },
  {
   "cell_type": "code",
   "execution_count": null,
   "metadata": {},
   "outputs": [],
   "source": []
  },
  {
   "cell_type": "code",
   "execution_count": null,
   "metadata": {},
   "outputs": [],
   "source": []
  },
  {
   "cell_type": "code",
   "execution_count": null,
   "metadata": {},
   "outputs": [],
   "source": []
  },
  {
   "cell_type": "code",
   "execution_count": null,
   "metadata": {},
   "outputs": [],
   "source": []
  },
  {
   "cell_type": "code",
   "execution_count": null,
   "metadata": {},
   "outputs": [],
   "source": []
  },
  {
   "cell_type": "code",
   "execution_count": null,
   "metadata": {},
   "outputs": [],
   "source": []
  },
  {
   "cell_type": "code",
   "execution_count": null,
   "metadata": {},
   "outputs": [],
   "source": []
  },
  {
   "cell_type": "code",
   "execution_count": null,
   "metadata": {},
   "outputs": [],
   "source": []
  },
  {
   "cell_type": "code",
   "execution_count": null,
   "metadata": {},
   "outputs": [],
   "source": []
  },
  {
   "cell_type": "code",
   "execution_count": null,
   "metadata": {},
   "outputs": [],
   "source": []
  },
  {
   "cell_type": "code",
   "execution_count": null,
   "metadata": {},
   "outputs": [],
   "source": []
  },
  {
   "cell_type": "code",
   "execution_count": null,
   "metadata": {},
   "outputs": [],
   "source": []
  },
  {
   "cell_type": "code",
   "execution_count": null,
   "metadata": {},
   "outputs": [],
   "source": []
  },
  {
   "cell_type": "code",
   "execution_count": null,
   "metadata": {},
   "outputs": [],
   "source": []
  },
  {
   "cell_type": "code",
   "execution_count": null,
   "metadata": {
    "_kg_hide-input": true
   },
   "outputs": [],
   "source": []
  },
  {
   "cell_type": "code",
   "execution_count": null,
   "metadata": {},
   "outputs": [],
   "source": []
  },
  {
   "cell_type": "code",
   "execution_count": null,
   "metadata": {},
   "outputs": [],
   "source": []
  },
  {
   "cell_type": "code",
   "execution_count": null,
   "metadata": {},
   "outputs": [],
   "source": []
  },
  {
   "cell_type": "code",
   "execution_count": null,
   "metadata": {
    "_kg_hide-input": true
   },
   "outputs": [],
   "source": []
  },
  {
   "cell_type": "code",
   "execution_count": null,
   "metadata": {},
   "outputs": [],
   "source": []
  },
  {
   "cell_type": "code",
   "execution_count": null,
   "metadata": {},
   "outputs": [],
   "source": []
  },
  {
   "cell_type": "code",
   "execution_count": null,
   "metadata": {},
   "outputs": [],
   "source": []
  },
  {
   "cell_type": "code",
   "execution_count": null,
   "metadata": {},
   "outputs": [],
   "source": []
  },
  {
   "cell_type": "code",
   "execution_count": null,
   "metadata": {},
   "outputs": [],
   "source": []
  },
  {
   "cell_type": "code",
   "execution_count": null,
   "metadata": {},
   "outputs": [],
   "source": []
  },
  {
   "cell_type": "code",
   "execution_count": null,
   "metadata": {},
   "outputs": [],
   "source": []
  },
  {
   "cell_type": "code",
   "execution_count": null,
   "metadata": {},
   "outputs": [],
   "source": []
  },
  {
   "cell_type": "code",
   "execution_count": null,
   "metadata": {},
   "outputs": [],
   "source": []
  },
  {
   "cell_type": "code",
   "execution_count": null,
   "metadata": {},
   "outputs": [],
   "source": []
  },
  {
   "cell_type": "code",
   "execution_count": null,
   "metadata": {},
   "outputs": [],
   "source": []
  },
  {
   "cell_type": "code",
   "execution_count": null,
   "metadata": {},
   "outputs": [],
   "source": []
  },
  {
   "cell_type": "code",
   "execution_count": null,
   "metadata": {},
   "outputs": [],
   "source": []
  },
  {
   "cell_type": "code",
   "execution_count": null,
   "metadata": {},
   "outputs": [],
   "source": []
  },
  {
   "cell_type": "code",
   "execution_count": null,
   "metadata": {},
   "outputs": [],
   "source": []
  },
  {
   "cell_type": "code",
   "execution_count": null,
   "metadata": {},
   "outputs": [],
   "source": []
  },
  {
   "cell_type": "code",
   "execution_count": null,
   "metadata": {},
   "outputs": [],
   "source": []
  },
  {
   "cell_type": "code",
   "execution_count": null,
   "metadata": {},
   "outputs": [],
   "source": []
  },
  {
   "cell_type": "code",
   "execution_count": null,
   "metadata": {},
   "outputs": [],
   "source": []
  },
  {
   "cell_type": "code",
   "execution_count": null,
   "metadata": {},
   "outputs": [],
   "source": []
  },
  {
   "cell_type": "code",
   "execution_count": null,
   "metadata": {},
   "outputs": [],
   "source": []
  },
  {
   "cell_type": "code",
   "execution_count": null,
   "metadata": {},
   "outputs": [],
   "source": []
  },
  {
   "cell_type": "code",
   "execution_count": null,
   "metadata": {},
   "outputs": [],
   "source": []
  },
  {
   "cell_type": "code",
   "execution_count": null,
   "metadata": {},
   "outputs": [],
   "source": []
  }
 ],
 "metadata": {
  "kernelspec": {
   "display_name": "Python 3",
   "language": "python",
   "name": "python3"
  },
  "language_info": {
   "codemirror_mode": {
    "name": "ipython",
    "version": 3
   },
   "file_extension": ".py",
   "mimetype": "text/x-python",
   "name": "python",
   "nbconvert_exporter": "python",
   "pygments_lexer": "ipython3",
   "version": "3.8.8"
  }
 },
 "nbformat": 4,
 "nbformat_minor": 4
}
